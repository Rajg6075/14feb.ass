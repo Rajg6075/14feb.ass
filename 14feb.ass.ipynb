{
 "cells": [
  {
   "cell_type": "code",
   "execution_count": null,
   "id": "c3528a60-3f5a-46e1-a372-910e01e82c76",
   "metadata": {},
   "outputs": [],
   "source": [
    "Q1. what is multithreading in python? why is it used? Name the module used to handle threads in python.\n",
    "ans=\n",
    "Multithreading in Python is a popular technique that enables multiple tasks to be executed simultaneously.\n",
    "\n",
    "Multithreading makes multitasking possible when it breaks programs into smaller, executable threads.\n",
    "\n",
    "The threading module is a high-level implementation of multithreading used to deploy an application in Python."
   ]
  },
  {
   "cell_type": "code",
   "execution_count": null,
   "id": "70e575b3-d5d8-4794-b747-a8f704b4ba9d",
   "metadata": {},
   "outputs": [],
   "source": [
    "Q2. Why threading module used? write the use of the following functions\n",
    " activeCount()\n",
    " currentThread()\n",
    " enumerate()\n",
    "    \n",
    "ANS= threading module is used for creating, controlling and managing threads in python. \n",
    "\n",
    "threading. activeCount() − This returns the number of active thread objects.\n",
    "threading. currentThread() − This returns the number of objects that are under the thread control of the caller.\n",
    "threading.enumerate() −This returns the list of all thread objects that are presently active.\n"
   ]
  },
  {
   "cell_type": "code",
   "execution_count": 2,
   "id": "2ecd5c0a-b7b9-4aad-abfd-4a2df30a8c1e",
   "metadata": {},
   "outputs": [],
   "source": [
    "Q3. Explain the following functions:\n",
    " run()\n",
    " start()\n",
    " join()\n",
    " isAlive()\n",
    "\n",
    "ANS= run() − The run() method is the entry point for a thread.\n",
    "     start() − The start() method starts a thread by calling the run method.\n",
    "     join([time]) − The join() waits for threads to terminate. \n",
    "     isAlive() − The isAlive() method checks whether a thread is still executing."
   ]
  },
  {
   "cell_type": "code",
   "execution_count": null,
   "id": "d772a961-200f-48f9-bcb5-e44eb06ecc0e",
   "metadata": {},
   "outputs": [],
   "source": [
    "Q4. Write a python program to create two threads. Thread one must print the list of squares and thread\n",
    "two must print the list of cubes.\n",
    "\n",
    "ANS=\n",
    "    \n",
    "    \n",
    "code:\n",
    "    import threading\n",
    "import time\n",
    "\n",
    "def print_squares():\n",
    "    squares = [i ** 2 for i in range(1, 6)]\n",
    "    print(\"Thread 1 - List of Squares:\", squares)\n",
    "\n",
    "def print_cubes():\n",
    "    cubes = [i ** 3 for i in range(1, 6)]\n",
    "    print(\"Thread 2 - List of Cubes:\", cubes)\n",
    "\n",
    "if __name__ == \"__main__\":\n",
    "    # Create two threads\n",
    "    thread1 = threading.Thread(target=print_squares)\n",
    "    thread2 = threading.Thread(target=print_cubes)\n",
    "\n",
    "    # Start the threads\n",
    "    thread1.start()\n",
    "    thread2.start()\n",
    "\n",
    "    # Wait for both threads to finish\n",
    "    thread1.join()\n",
    "    thread2.join()\n",
    "\n",
    "    print(\"Both threads have finished.\")\n",
    "\n"
   ]
  },
  {
   "cell_type": "code",
   "execution_count": null,
   "id": "e59bb489-d923-48d4-8098-220c9664d6a0",
   "metadata": {},
   "outputs": [],
   "source": [
    "Q5. State advantages and disadvantages of multithreading.\n",
    "ans=\n",
    "Advantages of Multithreading:\n",
    "\n",
    "Improved Performance: Multithreading can improve performance by utilizing multiple CPU cores efficiently. It allows the program to perform multiple tasks concurrently, thereby reducing overall execution time.\n",
    "\n",
    "Responsiveness: In applications with a graphical user interface (GUI), multithreading allows the user interface to remain responsive even when the program is performing other tasks in the background.\n",
    "\n",
    "Resource Sharing: Threads within a process share the same memory space, which allows them to easily share data and resources. This can lead to efficient communication and data sharing between threads.\n",
    "\n",
    "Disadvantages of Multithreading:\n",
    "\n",
    "Complexity: Multithreaded programs can be more complex and harder to develop, debug, and maintain. Thread synchronization and communication need to be carefully managed to avoid issues like race conditions and deadlocks.\n",
    "\n",
    "Race Conditions: When multiple threads access shared resources concurrently without proper synchronization, race conditions can occur, leading to unpredictable behavior and bugs.\n",
    "\n",
    "Deadlocks: Deadlocks can happen when two or more threads are unable to proceed because they are each waiting for the other to release a resource."
   ]
  },
  {
   "cell_type": "code",
   "execution_count": null,
   "id": "563a4778-6b1e-465a-a467-013e84da8708",
   "metadata": {},
   "outputs": [],
   "source": [
    "Q6. Explain deadlocks and race conditions.\n",
    "ANS= \n",
    "A deadlock is a situation in a multithreaded or multi-process environment where two or more threads or processes are unable to proceed because each is waiting for the other to release a resource. This results in a standstill, and none of the threads can make progress. Deadlocks are typically caused by a circular dependency of resources.\n",
    "\n",
    "A deadlock situation generally arises when the following conditions are met:\n",
    "\n",
    "Mutual Exclusion: Each resource can only be held by one thread or process at a time.\n",
    "Hold and Wait: A thread/process holds at least one resource and is waiting to acquire additional resources held by other threads/processes.\n",
    "No Preemption: Resources cannot be forcibly taken away from threads/processes; they must be released voluntarily.\n",
    "Circular Wait: There exists a cycle of two or more threads/processes, where each thread/process is waiting for the resource held by the next thread/process in the cycle.\n",
    "\n",
    "Race Condition:\n",
    "\n",
    "A race condition occurs when multiple threads or processes access shared resources simultaneously, and the final outcome depends on the relative timing of their execution. The behavior of the program becomes unpredictable and can lead to incorrect results or unexpected behavior.\n",
    "\n",
    "Race conditions arise when:\n",
    "\n",
    "Shared Resources: Multiple threads or processes access shared resources, like variables or files, without proper synchronization.\n",
    "Non-Atomic Operations: Operations that seem to be atomic but are not, such as reading and writing to shared variables."
   ]
  }
 ],
 "metadata": {
  "kernelspec": {
   "display_name": "Python 3 (ipykernel)",
   "language": "python",
   "name": "python3"
  },
  "language_info": {
   "codemirror_mode": {
    "name": "ipython",
    "version": 3
   },
   "file_extension": ".py",
   "mimetype": "text/x-python",
   "name": "python",
   "nbconvert_exporter": "python",
   "pygments_lexer": "ipython3",
   "version": "3.10.8"
  }
 },
 "nbformat": 4,
 "nbformat_minor": 5
}
